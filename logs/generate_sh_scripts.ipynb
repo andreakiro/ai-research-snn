{
 "cells": [
  {
   "cell_type": "markdown",
   "id": "2287a1f1",
   "metadata": {},
   "source": [
    "### Define variables"
   ]
  },
  {
   "cell_type": "code",
   "execution_count": 1,
   "id": "a15c00b8",
   "metadata": {},
   "outputs": [],
   "source": [
    "arr_model = ['vgg16', 'resnet18']\n",
    "arr_data  = ['cifar10', 'cifar100']\n",
    "arr_lr    = ['0.20', '0.10', '0.05', '0.01']\n",
    "arr_l     = ['16', '8', '4', '2']"
   ]
  },
  {
   "cell_type": "code",
   "execution_count": 2,
   "id": "3b979dfe",
   "metadata": {},
   "outputs": [],
   "source": [
    "path_train = '/cluster/home/pintoa/ai-research-snn/logs/20220523/train'\n",
    "path_eval  = '/cluster/home/pintoa/ai-research-snn/logs/20220523/eval'"
   ]
  },
  {
   "cell_type": "code",
   "execution_count": 3,
   "id": "17bd642d",
   "metadata": {},
   "outputs": [],
   "source": [
    "cmd1 = 'bsub -n 4 -W 08:00 -o {path}/{id}.out -R \"rusage[mem=2048, ngpus_excl_p=1]\" -R \"select[gpu_mtotal0>=10240]\"'\n",
    "cmd2 = 'python main.py train --model={model} --data={data} --lr={lr} --l={l} --id={id}'\n",
    "cmd3 = 'python main.py test --model={model} --data={data} --id={id} --mode={mode}'"
   ]
  },
  {
   "cell_type": "markdown",
   "id": "782fd69a",
   "metadata": {},
   "source": [
    "### Produce `train.sh`"
   ]
  },
  {
   "cell_type": "code",
   "execution_count": 4,
   "id": "f40270f1",
   "metadata": {},
   "outputs": [],
   "source": [
    "with open('train.sh', 'w') as f:\n",
    "    f.write('#!/bin/bash\\n')\n",
    "    for model in arr_model:\n",
    "        for data in arr_data:\n",
    "            for lr in arr_lr:\n",
    "                for l in arr_l:\n",
    "                    id = '{model}_{data}_LR{lr}_L{l}'.format(model=model, data=data, lr=lr[2:], l=l)\n",
    "                    c1 = cmd1.format(path=path_train, id=id)\n",
    "                    cmd = c1 + ' ' + cmd2.format(model=model, data=data, lr=lr, l=l, id=id)\n",
    "                    f.write(cmd + '\\n')"
   ]
  },
  {
   "cell_type": "markdown",
   "id": "0bbc5c16",
   "metadata": {},
   "source": [
    "### Produce `eval.sh`"
   ]
  },
  {
   "cell_type": "code",
   "execution_count": 4,
   "id": "e93be9e0",
   "metadata": {},
   "outputs": [],
   "source": [
    "mode = ['ann', 'snn']"
   ]
  },
  {
   "cell_type": "code",
   "execution_count": 5,
   "id": "51d48a83",
   "metadata": {},
   "outputs": [],
   "source": [
    "ids = []\n",
    "for model in arr_model:\n",
    "    for data in arr_data:\n",
    "        for lr in arr_lr:\n",
    "            for l in arr_l:\n",
    "                ids.append('{model}_{data}_LR{lr}_L{l}'.format(model=model, lr=lr[2:], data=data, l=l))"
   ]
  },
  {
   "cell_type": "code",
   "execution_count": 6,
   "id": "4628f1b9",
   "metadata": {},
   "outputs": [],
   "source": [
    "with open('eval.sh', 'w') as f:\n",
    "    f.write('#!/bin/bash\\n')\n",
    "    for model in arr_model:\n",
    "        for data in arr_data:\n",
    "            for lr in arr_lr:\n",
    "                for l in arr_l:\n",
    "                    for m in mode:\n",
    "                        saved_model = '{model}_LR{lr}_{data}_L{l}'.format(model=model, data=data, lr=lr[2:], l=l)\n",
    "                        nl = '0' + str(l) if l != '16' else str(l)\n",
    "                        new_id = '{model}_{data}_LR{lr}_L{l}_{mode}'.format(model=model, data=data, lr=lr[2:], l=nl, mode=m)\n",
    "                        c1 = cmd1.format(path=path_eval, id=new_id)\n",
    "                        cmd = c1 + ' ' + cmd3.format(model=model, data=data, id=saved_model, mode=m)\n",
    "                        if m == 'snn':\n",
    "                            cmd += ' --t=128'\n",
    "                        f.write(cmd + '\\n')"
   ]
  },
  {
   "cell_type": "code",
   "execution_count": null,
   "id": "74cb6c58",
   "metadata": {},
   "outputs": [],
   "source": []
  }
 ],
 "metadata": {
  "interpreter": {
   "hash": "b0fa6594d8f4cbf19f97940f81e996739fb7646882a419484c72d19e05852a7e"
  },
  "kernelspec": {
   "display_name": "Python 3.9.9 64-bit",
   "language": "python",
   "name": "python3"
  },
  "language_info": {
   "codemirror_mode": {
    "name": "ipython",
    "version": 3
   },
   "file_extension": ".py",
   "mimetype": "text/x-python",
   "name": "python",
   "nbconvert_exporter": "python",
   "pygments_lexer": "ipython3",
   "version": "3.9.9"
  }
 },
 "nbformat": 4,
 "nbformat_minor": 5
}
