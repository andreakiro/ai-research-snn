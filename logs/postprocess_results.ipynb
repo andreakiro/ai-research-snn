{
 "cells": [
  {
   "cell_type": "markdown",
   "id": "0f233ba2",
   "metadata": {},
   "source": [
    "### Postprocessing `.out` files"
   ]
  },
  {
   "cell_type": "code",
   "execution_count": 1,
   "id": "2d78c651",
   "metadata": {},
   "outputs": [],
   "source": [
    "import re"
   ]
  },
  {
   "cell_type": "code",
   "execution_count": 2,
   "id": "4345482b",
   "metadata": {},
   "outputs": [],
   "source": [
    "def get_lines(filename):\n",
    "    with open(filename) as f:\n",
    "        lines = f.readlines()\n",
    "    return lines"
   ]
  },
  {
   "cell_type": "code",
   "execution_count": 3,
   "id": "aa08def2",
   "metadata": {},
   "outputs": [],
   "source": [
    "def extract_nums(string):\n",
    "    remove_zeros = lambda x: x != 0\n",
    "    lnums = [float(s) for s in re.findall(r'-?\\d+\\.?\\d*', string)]\n",
    "    return list(filter(remove_zeros, lnums))"
   ]
  },
  {
   "cell_type": "code",
   "execution_count": 4,
   "id": "f23917ed",
   "metadata": {},
   "outputs": [],
   "source": [
    "def get_accuracy(filename):\n",
    "    lines = get_lines(filename)\n",
    "    for i, l in enumerate(lines):\n",
    "        if 'Accuracy' in l:\n",
    "            string_acc = ''.join(lines[i:])\n",
    "            break\n",
    "    return extract_nums(string_acc)"
   ]
  },
  {
   "cell_type": "markdown",
   "id": "fac2ca0f",
   "metadata": {},
   "source": [
    "### Reader for `.out` files"
   ]
  },
  {
   "cell_type": "code",
   "execution_count": 5,
   "id": "bb3ec875",
   "metadata": {},
   "outputs": [],
   "source": [
    "import os\n",
    "import pandas as pd\n",
    "import itertools"
   ]
  },
  {
   "cell_type": "code",
   "execution_count": 6,
   "id": "f625e8ec",
   "metadata": {},
   "outputs": [],
   "source": [
    "def read(directory):\n",
    "    root = '/'.join([os.getcwd(), directory])\n",
    "    files = sorted(os.listdir(root))\n",
    "    accs = {f[:-4]: get_accuracy('/'.join([root, f])) for f in files}\n",
    "    return accs"
   ]
  },
  {
   "cell_type": "code",
   "execution_count": 7,
   "id": "1d10929e",
   "metadata": {},
   "outputs": [],
   "source": [
    "def merge_ann_snn(accs):\n",
    "    new_accs = {}\n",
    "    for i, e in enumerate(accs):\n",
    "        if i % 2 == 0:\n",
    "            new_accs[e[:-4]] = accs[e]\n",
    "        else:\n",
    "            new_accs[e[:-4]].extend(accs[e])\n",
    "    return new_accs"
   ]
  },
  {
   "cell_type": "code",
   "execution_count": 12,
   "id": "b037d694",
   "metadata": {},
   "outputs": [],
   "source": [
    "accs = merge_ann_snn(read(directory='20220523/eval'))"
   ]
  },
  {
   "cell_type": "code",
   "execution_count": 13,
   "id": "461d2038",
   "metadata": {},
   "outputs": [
    {
     "data": {
      "text/plain": [
       "129"
      ]
     },
     "execution_count": 13,
     "metadata": {},
     "output_type": "execute_result"
    }
   ],
   "source": [
    "len(accs['resnet18_cifar100_LR01_L02'])"
   ]
  },
  {
   "cell_type": "code",
   "execution_count": 14,
   "id": "81fb8f2b",
   "metadata": {},
   "outputs": [],
   "source": [
    "cols = ['ann']\n",
    "for i in range(128):\n",
    "    cols.append('t=' + str(i + 1))"
   ]
  },
  {
   "cell_type": "code",
   "execution_count": 16,
   "id": "c93d13ab",
   "metadata": {},
   "outputs": [
    {
     "data": {
      "text/plain": [
       "'t=128'"
      ]
     },
     "execution_count": 16,
     "metadata": {},
     "output_type": "execute_result"
    }
   ],
   "source": [
    "cols[-1]"
   ]
  },
  {
   "cell_type": "code",
   "execution_count": 17,
   "id": "195fa288",
   "metadata": {},
   "outputs": [],
   "source": [
    "df = pd.DataFrame.from_dict(accs, orient='index', columns=cols)\n",
    "df_short = df[['ann', 't=1', 't=2', 't=4', 't=8', 't=16', 't=32', 't=64', 't=128']]"
   ]
  },
  {
   "cell_type": "code",
   "execution_count": 18,
   "id": "69ef0a23",
   "metadata": {},
   "outputs": [
    {
     "data": {
      "text/html": [
       "<div>\n",
       "<style scoped>\n",
       "    .dataframe tbody tr th:only-of-type {\n",
       "        vertical-align: middle;\n",
       "    }\n",
       "\n",
       "    .dataframe tbody tr th {\n",
       "        vertical-align: top;\n",
       "    }\n",
       "\n",
       "    .dataframe thead th {\n",
       "        text-align: right;\n",
       "    }\n",
       "</style>\n",
       "<table border=\"1\" class=\"dataframe\">\n",
       "  <thead>\n",
       "    <tr style=\"text-align: right;\">\n",
       "      <th></th>\n",
       "      <th>ann</th>\n",
       "      <th>t=1</th>\n",
       "      <th>t=2</th>\n",
       "      <th>t=4</th>\n",
       "      <th>t=8</th>\n",
       "      <th>t=16</th>\n",
       "      <th>t=32</th>\n",
       "      <th>t=64</th>\n",
       "      <th>t=128</th>\n",
       "    </tr>\n",
       "  </thead>\n",
       "  <tbody>\n",
       "    <tr>\n",
       "      <th>resnet18_cifar100_LR01_L02</th>\n",
       "      <td>0.7026</td>\n",
       "      <td>0.5756</td>\n",
       "      <td>0.6281</td>\n",
       "      <td>0.6627</td>\n",
       "      <td>0.6901</td>\n",
       "      <td>0.7019</td>\n",
       "      <td>0.7041</td>\n",
       "      <td>0.7048</td>\n",
       "      <td>0.7031</td>\n",
       "    </tr>\n",
       "    <tr>\n",
       "      <th>resnet18_cifar100_LR01_L04</th>\n",
       "      <td>0.7331</td>\n",
       "      <td>0.5088</td>\n",
       "      <td>0.5878</td>\n",
       "      <td>0.6569</td>\n",
       "      <td>0.7045</td>\n",
       "      <td>0.7268</td>\n",
       "      <td>0.7342</td>\n",
       "      <td>0.7351</td>\n",
       "      <td>0.7351</td>\n",
       "    </tr>\n",
       "    <tr>\n",
       "      <th>resnet18_cifar100_LR01_L08</th>\n",
       "      <td>0.7522</td>\n",
       "      <td>0.4036</td>\n",
       "      <td>0.5151</td>\n",
       "      <td>0.6173</td>\n",
       "      <td>0.6982</td>\n",
       "      <td>0.7373</td>\n",
       "      <td>0.7496</td>\n",
       "      <td>0.7522</td>\n",
       "      <td>0.7547</td>\n",
       "    </tr>\n",
       "    <tr>\n",
       "      <th>resnet18_cifar100_LR01_L16</th>\n",
       "      <td>0.7532</td>\n",
       "      <td>0.1132</td>\n",
       "      <td>0.3290</td>\n",
       "      <td>0.5246</td>\n",
       "      <td>0.6618</td>\n",
       "      <td>0.7249</td>\n",
       "      <td>0.7454</td>\n",
       "      <td>0.7516</td>\n",
       "      <td>0.7538</td>\n",
       "    </tr>\n",
       "    <tr>\n",
       "      <th>resnet18_cifar100_LR05_L02</th>\n",
       "      <td>0.7509</td>\n",
       "      <td>0.6494</td>\n",
       "      <td>0.6913</td>\n",
       "      <td>0.7217</td>\n",
       "      <td>0.7427</td>\n",
       "      <td>0.7493</td>\n",
       "      <td>0.7527</td>\n",
       "      <td>0.7512</td>\n",
       "      <td>0.7517</td>\n",
       "    </tr>\n",
       "    <tr>\n",
       "      <th>...</th>\n",
       "      <td>...</td>\n",
       "      <td>...</td>\n",
       "      <td>...</td>\n",
       "      <td>...</td>\n",
       "      <td>...</td>\n",
       "      <td>...</td>\n",
       "      <td>...</td>\n",
       "      <td>...</td>\n",
       "      <td>...</td>\n",
       "    </tr>\n",
       "    <tr>\n",
       "      <th>vgg16_cifar10_LR10_L16</th>\n",
       "      <td>0.9404</td>\n",
       "      <td>0.1114</td>\n",
       "      <td>0.7455</td>\n",
       "      <td>0.8738</td>\n",
       "      <td>0.9217</td>\n",
       "      <td>0.9357</td>\n",
       "      <td>0.9386</td>\n",
       "      <td>0.9398</td>\n",
       "      <td>0.9400</td>\n",
       "    </tr>\n",
       "    <tr>\n",
       "      <th>vgg16_cifar10_LR20_L02</th>\n",
       "      <td>0.1000</td>\n",
       "      <td>0.1000</td>\n",
       "      <td>0.1000</td>\n",
       "      <td>0.1000</td>\n",
       "      <td>0.1000</td>\n",
       "      <td>0.1000</td>\n",
       "      <td>0.1000</td>\n",
       "      <td>0.1000</td>\n",
       "      <td>0.1000</td>\n",
       "    </tr>\n",
       "    <tr>\n",
       "      <th>vgg16_cifar10_LR20_L04</th>\n",
       "      <td>0.1000</td>\n",
       "      <td>0.1000</td>\n",
       "      <td>0.1000</td>\n",
       "      <td>0.1000</td>\n",
       "      <td>0.1000</td>\n",
       "      <td>0.1000</td>\n",
       "      <td>0.1000</td>\n",
       "      <td>0.1000</td>\n",
       "      <td>0.1000</td>\n",
       "    </tr>\n",
       "    <tr>\n",
       "      <th>vgg16_cifar10_LR20_L08</th>\n",
       "      <td>0.9134</td>\n",
       "      <td>0.5286</td>\n",
       "      <td>0.6108</td>\n",
       "      <td>0.7842</td>\n",
       "      <td>0.8768</td>\n",
       "      <td>0.9044</td>\n",
       "      <td>0.9119</td>\n",
       "      <td>0.9131</td>\n",
       "      <td>0.9136</td>\n",
       "    </tr>\n",
       "    <tr>\n",
       "      <th>vgg16_cifar10_LR20_L16</th>\n",
       "      <td>0.9245</td>\n",
       "      <td>0.4660</td>\n",
       "      <td>0.5195</td>\n",
       "      <td>0.7555</td>\n",
       "      <td>0.8853</td>\n",
       "      <td>0.9156</td>\n",
       "      <td>0.9242</td>\n",
       "      <td>0.9255</td>\n",
       "      <td>0.9256</td>\n",
       "    </tr>\n",
       "  </tbody>\n",
       "</table>\n",
       "<p>64 rows × 9 columns</p>\n",
       "</div>"
      ],
      "text/plain": [
       "                               ann     t=1     t=2     t=4     t=8    t=16  \\\n",
       "resnet18_cifar100_LR01_L02  0.7026  0.5756  0.6281  0.6627  0.6901  0.7019   \n",
       "resnet18_cifar100_LR01_L04  0.7331  0.5088  0.5878  0.6569  0.7045  0.7268   \n",
       "resnet18_cifar100_LR01_L08  0.7522  0.4036  0.5151  0.6173  0.6982  0.7373   \n",
       "resnet18_cifar100_LR01_L16  0.7532  0.1132  0.3290  0.5246  0.6618  0.7249   \n",
       "resnet18_cifar100_LR05_L02  0.7509  0.6494  0.6913  0.7217  0.7427  0.7493   \n",
       "...                            ...     ...     ...     ...     ...     ...   \n",
       "vgg16_cifar10_LR10_L16      0.9404  0.1114  0.7455  0.8738  0.9217  0.9357   \n",
       "vgg16_cifar10_LR20_L02      0.1000  0.1000  0.1000  0.1000  0.1000  0.1000   \n",
       "vgg16_cifar10_LR20_L04      0.1000  0.1000  0.1000  0.1000  0.1000  0.1000   \n",
       "vgg16_cifar10_LR20_L08      0.9134  0.5286  0.6108  0.7842  0.8768  0.9044   \n",
       "vgg16_cifar10_LR20_L16      0.9245  0.4660  0.5195  0.7555  0.8853  0.9156   \n",
       "\n",
       "                              t=32    t=64   t=128  \n",
       "resnet18_cifar100_LR01_L02  0.7041  0.7048  0.7031  \n",
       "resnet18_cifar100_LR01_L04  0.7342  0.7351  0.7351  \n",
       "resnet18_cifar100_LR01_L08  0.7496  0.7522  0.7547  \n",
       "resnet18_cifar100_LR01_L16  0.7454  0.7516  0.7538  \n",
       "resnet18_cifar100_LR05_L02  0.7527  0.7512  0.7517  \n",
       "...                            ...     ...     ...  \n",
       "vgg16_cifar10_LR10_L16      0.9386  0.9398  0.9400  \n",
       "vgg16_cifar10_LR20_L02      0.1000  0.1000  0.1000  \n",
       "vgg16_cifar10_LR20_L04      0.1000  0.1000  0.1000  \n",
       "vgg16_cifar10_LR20_L08      0.9119  0.9131  0.9136  \n",
       "vgg16_cifar10_LR20_L16      0.9242  0.9255  0.9256  \n",
       "\n",
       "[64 rows x 9 columns]"
      ]
     },
     "execution_count": 18,
     "metadata": {},
     "output_type": "execute_result"
    }
   ],
   "source": [
    "df_short"
   ]
  },
  {
   "cell_type": "code",
   "execution_count": 19,
   "id": "3347bc90",
   "metadata": {},
   "outputs": [],
   "source": [
    "df.to_csv('logs_results_128_long.csv')\n",
    "df_short.to_csv('logs_results_128_short.csv')"
   ]
  },
  {
   "cell_type": "code",
   "execution_count": null,
   "id": "cab46f22",
   "metadata": {},
   "outputs": [],
   "source": []
  }
 ],
 "metadata": {
  "kernelspec": {
   "display_name": "Python 3.9",
   "language": "python",
   "name": "python3.9"
  },
  "language_info": {
   "codemirror_mode": {
    "name": "ipython",
    "version": 3
   },
   "file_extension": ".py",
   "mimetype": "text/x-python",
   "name": "python",
   "nbconvert_exporter": "python",
   "pygments_lexer": "ipython3",
   "version": "3.9.9"
  }
 },
 "nbformat": 4,
 "nbformat_minor": 5
}
