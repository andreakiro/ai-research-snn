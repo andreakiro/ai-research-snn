{
 "cells": [
  {
   "cell_type": "markdown",
   "id": "0f233ba2",
   "metadata": {},
   "source": [
    "### Postprocessing `.out` files"
   ]
  },
  {
   "cell_type": "code",
   "execution_count": 1,
   "id": "2d78c651",
   "metadata": {},
   "outputs": [],
   "source": [
    "import re"
   ]
  },
  {
   "cell_type": "code",
   "execution_count": 2,
   "id": "4345482b",
   "metadata": {},
   "outputs": [],
   "source": [
    "def get_lines(filename):\n",
    "    with open(filename) as f:\n",
    "        lines = f.readlines()\n",
    "    return lines"
   ]
  },
  {
   "cell_type": "code",
   "execution_count": 3,
   "id": "aa08def2",
   "metadata": {},
   "outputs": [],
   "source": [
    "def extract_nums(string):\n",
    "    remove_zeros = lambda x: x != 0\n",
    "    lnums = [float(s) for s in re.findall(r'-?\\d+\\.?\\d*', string)]\n",
    "    return list(filter(remove_zeros, lnums))"
   ]
  },
  {
   "cell_type": "code",
   "execution_count": 4,
   "id": "f23917ed",
   "metadata": {},
   "outputs": [],
   "source": [
    "def get_accuracy(filename):\n",
    "    lines = get_lines(filename)\n",
    "    for i, l in enumerate(lines):\n",
    "        if 'Accuracy' in l:\n",
    "            string_acc = ''.join(lines[i:])\n",
    "            break\n",
    "    return extract_nums(string_acc)"
   ]
  },
  {
   "cell_type": "markdown",
   "id": "e9194b4a",
   "metadata": {},
   "source": [
    "### Reader for `.out` files"
   ]
  },
  {
   "cell_type": "code",
   "execution_count": 5,
   "id": "40af2ffb",
   "metadata": {},
   "outputs": [],
   "source": [
    "import os\n",
    "import pandas as pd\n",
    "import itertools"
   ]
  },
  {
   "cell_type": "code",
   "execution_count": 6,
   "id": "34fd816d",
   "metadata": {},
   "outputs": [],
   "source": [
    "def read(directory = 'eval'):\n",
    "    root = '/'.join([os.getcwd(), directory])\n",
    "    files = sorted(os.listdir(root))\n",
    "    accs = [get_accuracy('/'.join([root, f])) for f in files]\n",
    "    return files, accs"
   ]
  },
  {
   "cell_type": "code",
   "execution_count": 7,
   "id": "60eb34ab",
   "metadata": {},
   "outputs": [],
   "source": [
    "files, accs = read()"
   ]
  },
  {
   "cell_type": "code",
   "execution_count": 8,
   "id": "ac0aa402",
   "metadata": {},
   "outputs": [],
   "source": [
    "ann_snn = []\n",
    "for i, e in enumerate(accs):\n",
    "    if i % 2 == 0:\n",
    "        ann_snn.append(e + accs[i + 1])"
   ]
  },
  {
   "cell_type": "code",
   "execution_count": 9,
   "id": "e804274b",
   "metadata": {},
   "outputs": [],
   "source": [
    "model = ['vgg', 'res']\n",
    "data = ['cifar10', 'cifar100']\n",
    "ls = [16, 8, 4, 2]"
   ]
  },
  {
   "cell_type": "code",
   "execution_count": 10,
   "id": "ed56e9d1",
   "metadata": {},
   "outputs": [],
   "source": [
    "models = ['_'.join([str(s) for s in elem]) for elem in itertools.product(model, data, ls)]"
   ]
  },
  {
   "cell_type": "code",
   "execution_count": 11,
   "id": "1c8bd419",
   "metadata": {},
   "outputs": [],
   "source": [
    "df = pd.DataFrame(ann_snn)\n",
    "df = df[[0, 1, 3, 7, 15]]\n",
    "df.columns = ['ann', 't=2', 't=4', 't=8', 't=16']\n",
    "df.insert(loc=0, column='model', value=models)"
   ]
  },
  {
   "cell_type": "code",
   "execution_count": 12,
   "id": "8ab9849d",
   "metadata": {},
   "outputs": [
    {
     "data": {
      "text/html": [
       "<div>\n",
       "<style scoped>\n",
       "    .dataframe tbody tr th:only-of-type {\n",
       "        vertical-align: middle;\n",
       "    }\n",
       "\n",
       "    .dataframe tbody tr th {\n",
       "        vertical-align: top;\n",
       "    }\n",
       "\n",
       "    .dataframe thead th {\n",
       "        text-align: right;\n",
       "    }\n",
       "</style>\n",
       "<table border=\"1\" class=\"dataframe\">\n",
       "  <thead>\n",
       "    <tr style=\"text-align: right;\">\n",
       "      <th></th>\n",
       "      <th>model</th>\n",
       "      <th>ann</th>\n",
       "      <th>t=2</th>\n",
       "      <th>t=4</th>\n",
       "      <th>t=8</th>\n",
       "      <th>t=16</th>\n",
       "    </tr>\n",
       "  </thead>\n",
       "  <tbody>\n",
       "    <tr>\n",
       "      <th>0</th>\n",
       "      <td>vgg_cifar10_16</td>\n",
       "      <td>0.9404</td>\n",
       "      <td>0.1114</td>\n",
       "      <td>0.8320</td>\n",
       "      <td>0.9135</td>\n",
       "      <td>0.9343</td>\n",
       "    </tr>\n",
       "    <tr>\n",
       "      <th>1</th>\n",
       "      <td>vgg_cifar10_8</td>\n",
       "      <td>0.9230</td>\n",
       "      <td>0.3257</td>\n",
       "      <td>0.7643</td>\n",
       "      <td>0.8665</td>\n",
       "      <td>0.9100</td>\n",
       "    </tr>\n",
       "    <tr>\n",
       "      <th>2</th>\n",
       "      <td>vgg_cifar10_4</td>\n",
       "      <td>0.1687</td>\n",
       "      <td>0.1021</td>\n",
       "      <td>0.0921</td>\n",
       "      <td>0.1030</td>\n",
       "      <td>0.1185</td>\n",
       "    </tr>\n",
       "    <tr>\n",
       "      <th>3</th>\n",
       "      <td>vgg_cifar10_2</td>\n",
       "      <td>0.1000</td>\n",
       "      <td>0.1000</td>\n",
       "      <td>0.1000</td>\n",
       "      <td>0.1000</td>\n",
       "      <td>0.1000</td>\n",
       "    </tr>\n",
       "    <tr>\n",
       "      <th>4</th>\n",
       "      <td>vgg_cifar100_16</td>\n",
       "      <td>0.7280</td>\n",
       "      <td>0.1092</td>\n",
       "      <td>0.2224</td>\n",
       "      <td>0.3822</td>\n",
       "      <td>0.5703</td>\n",
       "    </tr>\n",
       "    <tr>\n",
       "      <th>5</th>\n",
       "      <td>vgg_cifar100_8</td>\n",
       "      <td>0.7073</td>\n",
       "      <td>0.0736</td>\n",
       "      <td>0.3365</td>\n",
       "      <td>0.5049</td>\n",
       "      <td>0.6283</td>\n",
       "    </tr>\n",
       "    <tr>\n",
       "      <th>6</th>\n",
       "      <td>vgg_cifar100_4</td>\n",
       "      <td>0.6828</td>\n",
       "      <td>0.2027</td>\n",
       "      <td>0.3507</td>\n",
       "      <td>0.4902</td>\n",
       "      <td>0.6002</td>\n",
       "    </tr>\n",
       "    <tr>\n",
       "      <th>7</th>\n",
       "      <td>vgg_cifar100_2</td>\n",
       "      <td>0.0100</td>\n",
       "      <td>0.0100</td>\n",
       "      <td>0.0100</td>\n",
       "      <td>0.0100</td>\n",
       "      <td>0.0100</td>\n",
       "    </tr>\n",
       "    <tr>\n",
       "      <th>8</th>\n",
       "      <td>res_cifar10_16</td>\n",
       "      <td>0.9578</td>\n",
       "      <td>0.6598</td>\n",
       "      <td>0.8167</td>\n",
       "      <td>0.9099</td>\n",
       "      <td>0.9443</td>\n",
       "    </tr>\n",
       "    <tr>\n",
       "      <th>9</th>\n",
       "      <td>res_cifar10_8</td>\n",
       "      <td>0.9543</td>\n",
       "      <td>0.7211</td>\n",
       "      <td>0.8525</td>\n",
       "      <td>0.9221</td>\n",
       "      <td>0.9479</td>\n",
       "    </tr>\n",
       "    <tr>\n",
       "      <th>10</th>\n",
       "      <td>res_cifar10_4</td>\n",
       "      <td>0.9473</td>\n",
       "      <td>0.8770</td>\n",
       "      <td>0.9185</td>\n",
       "      <td>0.9380</td>\n",
       "      <td>0.9448</td>\n",
       "    </tr>\n",
       "    <tr>\n",
       "      <th>11</th>\n",
       "      <td>res_cifar10_2</td>\n",
       "      <td>0.9405</td>\n",
       "      <td>0.9068</td>\n",
       "      <td>0.9267</td>\n",
       "      <td>0.9367</td>\n",
       "      <td>0.9423</td>\n",
       "    </tr>\n",
       "    <tr>\n",
       "      <th>12</th>\n",
       "      <td>res_cifar100_16</td>\n",
       "      <td>0.7683</td>\n",
       "      <td>0.2345</td>\n",
       "      <td>0.3970</td>\n",
       "      <td>0.6135</td>\n",
       "      <td>0.7354</td>\n",
       "    </tr>\n",
       "    <tr>\n",
       "      <th>13</th>\n",
       "      <td>res_cifar100_8</td>\n",
       "      <td>0.7714</td>\n",
       "      <td>0.3749</td>\n",
       "      <td>0.5494</td>\n",
       "      <td>0.6886</td>\n",
       "      <td>0.7497</td>\n",
       "    </tr>\n",
       "    <tr>\n",
       "      <th>14</th>\n",
       "      <td>res_cifar100_4</td>\n",
       "      <td>0.7614</td>\n",
       "      <td>0.5252</td>\n",
       "      <td>0.6508</td>\n",
       "      <td>0.7282</td>\n",
       "      <td>0.7530</td>\n",
       "    </tr>\n",
       "    <tr>\n",
       "      <th>15</th>\n",
       "      <td>res_cifar100_2</td>\n",
       "      <td>0.7560</td>\n",
       "      <td>0.6216</td>\n",
       "      <td>0.6944</td>\n",
       "      <td>0.7354</td>\n",
       "      <td>0.7510</td>\n",
       "    </tr>\n",
       "  </tbody>\n",
       "</table>\n",
       "</div>"
      ],
      "text/plain": [
       "              model     ann     t=2     t=4     t=8    t=16\n",
       "0    vgg_cifar10_16  0.9404  0.1114  0.8320  0.9135  0.9343\n",
       "1     vgg_cifar10_8  0.9230  0.3257  0.7643  0.8665  0.9100\n",
       "2     vgg_cifar10_4  0.1687  0.1021  0.0921  0.1030  0.1185\n",
       "3     vgg_cifar10_2  0.1000  0.1000  0.1000  0.1000  0.1000\n",
       "4   vgg_cifar100_16  0.7280  0.1092  0.2224  0.3822  0.5703\n",
       "5    vgg_cifar100_8  0.7073  0.0736  0.3365  0.5049  0.6283\n",
       "6    vgg_cifar100_4  0.6828  0.2027  0.3507  0.4902  0.6002\n",
       "7    vgg_cifar100_2  0.0100  0.0100  0.0100  0.0100  0.0100\n",
       "8    res_cifar10_16  0.9578  0.6598  0.8167  0.9099  0.9443\n",
       "9     res_cifar10_8  0.9543  0.7211  0.8525  0.9221  0.9479\n",
       "10    res_cifar10_4  0.9473  0.8770  0.9185  0.9380  0.9448\n",
       "11    res_cifar10_2  0.9405  0.9068  0.9267  0.9367  0.9423\n",
       "12  res_cifar100_16  0.7683  0.2345  0.3970  0.6135  0.7354\n",
       "13   res_cifar100_8  0.7714  0.3749  0.5494  0.6886  0.7497\n",
       "14   res_cifar100_4  0.7614  0.5252  0.6508  0.7282  0.7530\n",
       "15   res_cifar100_2  0.7560  0.6216  0.6944  0.7354  0.7510"
      ]
     },
     "execution_count": 12,
     "metadata": {},
     "output_type": "execute_result"
    }
   ],
   "source": [
    "df"
   ]
  },
  {
   "cell_type": "code",
   "execution_count": 14,
   "id": "c936a746",
   "metadata": {},
   "outputs": [],
   "source": [
    "df.to_csv('logs_results.csv', index=False)"
   ]
  }
 ],
 "metadata": {
  "kernelspec": {
   "display_name": "Python 3.9",
   "language": "python",
   "name": "python3.9"
  },
  "language_info": {
   "codemirror_mode": {
    "name": "ipython",
    "version": 3
   },
   "file_extension": ".py",
   "mimetype": "text/x-python",
   "name": "python",
   "nbconvert_exporter": "python",
   "pygments_lexer": "ipython3",
   "version": "3.9.9"
  }
 },
 "nbformat": 4,
 "nbformat_minor": 5
}
